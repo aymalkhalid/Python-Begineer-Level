{
 "cells": [
  {
   "cell_type": "code",
   "execution_count": 132,
   "metadata": {},
   "outputs": [],
   "source": [
    "import statistics\n",
    "import timeit\n",
    "import time\n",
    "import random"
   ]
  },
  {
   "cell_type": "code",
   "execution_count": 133,
   "metadata": {},
   "outputs": [
    {
     "name": "stdout",
     "output_type": "stream",
     "text": [
      "[3, 2, 4, 1] [7, 9, 11, 10] 6\n",
      "[1] [3, 4] 2\n",
      "[] [4] 3\n",
      "[7] [11, 10] 9\n",
      "[10] [] 11\n"
     ]
    },
    {
     "data": {
      "text/plain": [
       "[1, 2, 3, 4, 6, 7, 9, 10, 11]"
      ]
     },
     "execution_count": 133,
     "metadata": {},
     "output_type": "execute_result"
    }
   ],
   "source": [
    "def quick_Sort(array):\n",
    "    #Base case\n",
    "    if len(array) <=1:\n",
    "        return array\n",
    "    else:\n",
    "        #Pivot is finded through these [0,half of lenth-1,len-1] index of the array passed.\n",
    "        #Find the pivot  by taking  median of first ,last and the middle element\n",
    "        pivot = statistics.median([array[0],array[int((len(array)-1)/2)],array[len(array)-1]])\n",
    "        #removing the pivot from the list\n",
    "        array.remove(pivot)\n",
    "        # creating left and right list to the Pivot\n",
    "        left_list=[]\n",
    "        right_list=[]\n",
    "        for item in array:\n",
    "            if (item<=pivot):\n",
    "                left_list.append(item)\n",
    "            else:\n",
    "                right_list.append(item)\n",
    "        print(left_list,right_list,pivot)\n",
    "        #Again do the same Process for Left_List and Right_List\n",
    "    return quick_Sort(left_list)+ [pivot] +quick_Sort(right_list)\n",
    "quick_Sort([3,2,4,1,6,7,9,11,10])"
   ]
  },
  {
   "cell_type": "code",
   "execution_count": 144,
   "metadata": {
    "scrolled": true
   },
   "outputs": [
    {
     "name": "stdout",
     "output_type": "stream",
     "text": [
      "[55, 68, 34, 12, 72, 54, 29, 12, 51, 46, 11, 64, 76, 31, 87] [590, 659, 460, 807, 377, 812, 114, 207, 171, 906, 510, 510, 223, 171, 822, 241, 296, 677, 877, 160, 406, 859, 372, 847, 670, 856, 115, 215, 608, 956, 915, 363, 110, 925, 473, 210, 852, 504, 623, 370, 402, 801, 197, 509, 400, 313, 335, 848, 724, 722, 924, 829, 991, 297, 316, 550, 946, 595, 194, 471, 593, 130, 616, 497, 561, 804, 244, 440, 325, 427, 192, 287, 379, 879, 235, 832, 753, 201, 352, 696, 988, 423, 479, 795] 104\n",
      "[34, 12, 54, 29, 12, 51, 46, 11, 31] [68, 72, 64, 76, 87] 55\n",
      "[12, 29, 12, 11] [34, 54, 51, 46] 31\n",
      "[12, 11] [29] 12\n",
      "[11] [] 12\n",
      "[34] [54, 51] 46\n",
      "[51] [] 54\n",
      "[64] [72, 76, 87] 68\n",
      "[72] [87] 76\n",
      "[590, 659, 460, 377, 114, 207, 171, 510, 510, 223, 171, 241, 296, 677, 160, 406, 372, 670, 115, 215, 608, 363, 110, 473, 210, 504, 623, 370, 402, 197, 509, 400, 313, 335, 724, 722, 297, 316, 550, 595, 194, 471, 593, 130, 616, 497, 561, 244, 440, 325, 427, 192, 287, 379, 235, 753, 201, 352, 696, 423, 479] [807, 812, 906, 822, 877, 859, 847, 856, 956, 915, 925, 852, 801, 848, 924, 829, 991, 946, 804, 879, 832, 988] 795\n",
      "[460, 377, 114, 207, 171, 223, 171, 241, 296, 160, 406, 372, 115, 215, 363, 110, 473, 210, 504, 370, 402, 197, 400, 313, 335, 297, 316, 194, 471, 130, 497, 244, 440, 325, 427, 192, 287, 379, 235, 201, 352, 423, 479] [590, 659, 510, 510, 677, 670, 608, 623, 724, 722, 550, 595, 593, 616, 561, 753, 696] 509\n",
      "[377, 114, 207, 171, 223, 171, 241, 296, 160, 406, 372, 115, 215, 363, 110, 210, 370, 402, 197, 400, 313, 335, 297, 316, 194, 130, 244, 440, 325, 427, 192, 287, 379, 235, 201, 352, 423] [473, 504, 471, 497, 479] 460\n",
      "[114, 207, 171, 223, 171, 241, 296, 160, 372, 115, 215, 363, 110, 210, 370, 197, 313, 335, 297, 316, 194, 130, 244, 325, 192, 287, 235, 201, 352] [406, 402, 400, 440, 427, 379, 423] 377\n",
      "[114, 207, 171, 223, 171, 241, 296, 160, 115, 215, 110, 210, 197, 313, 335, 297, 316, 194, 130, 244, 325, 192, 287, 235, 201] [372, 363, 370] 352\n",
      "[114, 171, 171, 160, 115, 110, 194, 130, 192] [207, 223, 241, 296, 215, 210, 313, 335, 297, 316, 244, 325, 287, 235, 201] 197\n",
      "[114, 110] [171, 171, 160, 194, 130, 192] 115\n",
      "[110] [] 114\n",
      "[171, 160, 130] [194, 192] 171\n",
      "[130] [171] 160\n",
      "[192] [] 194\n",
      "[201] [223, 241, 296, 215, 210, 313, 335, 297, 316, 244, 325, 287, 235] 207\n",
      "[223, 215, 210] [241, 296, 313, 335, 297, 316, 244, 325, 287] 235\n",
      "[210] [223] 215\n",
      "[241, 244] [296, 313, 335, 297, 316, 325] 287\n",
      "[] [244] 241\n",
      "[296, 313, 297, 316] [335] 325\n",
      "[296, 297] [316] 313\n",
      "[] [297] 296\n",
      "[363] [372] 370\n",
      "[406, 402, 400, 379] [440, 427] 423\n",
      "[400, 379] [406] 402\n",
      "[379] [] 400\n",
      "[427] [] 440\n",
      "[471] [504, 497, 479] 473\n",
      "[479] [504] 497\n",
      "[590, 659, 510, 510, 677, 670, 608, 623, 550, 595, 593, 616, 561] [724, 722, 753] 696\n",
      "[510, 510, 550, 561] [659, 677, 670, 608, 623, 595, 593, 616] 590\n",
      "[510] [550, 561] 510\n",
      "[] [561] 550\n",
      "[608, 595, 593] [659, 677, 670, 623] 616\n",
      "[593] [608] 595\n",
      "[623] [677, 670] 659\n",
      "[670] [] 677\n",
      "[722] [753] 724\n",
      "[807, 812, 906, 822, 877, 859, 847, 856, 915, 852, 801, 848, 924, 829, 804, 879, 832] [956, 991, 946, 988] 925\n",
      "[807, 812, 822, 801, 829, 804] [906, 877, 859, 847, 856, 915, 852, 848, 924, 879] 832\n",
      "[801, 804] [812, 822, 829] 807\n",
      "[] [804] 801\n",
      "[812] [829] 822\n",
      "[877, 859, 847, 856, 852, 848] [906, 915, 924] 879\n",
      "[847] [877, 859, 856, 852] 848\n",
      "[856, 852] [877] 859\n",
      "[852] [] 856\n",
      "[906] [924] 915\n",
      "[956, 946] [991] 988\n",
      "[946] [] 956\n",
      "--- 0.005994558334350586 seconds ---\n"
     ]
    }
   ],
   "source": [
    "Start = 1\n",
    "Stop = 1000\n",
    "limit = 100\n",
    "# List of random integers without Step parameter\n",
    "RandomI_ListOfIntegers = [random.randrange(Start, Stop) for iter in range(limit)]\n",
    "start_time = time.time()\n",
    "quick_Sort(RandomI_ListOfIntegers)\n",
    "print(\"--- %s seconds ---\" % (time.time() - start_time))"
   ]
  },
  {
   "cell_type": "code",
   "execution_count": 95,
   "metadata": {},
   "outputs": [],
   "source": [
    "a=random.randint(0, 100)"
   ]
  },
  {
   "cell_type": "code",
   "execution_count": 128,
   "metadata": {},
   "outputs": [],
   "source": [
    "def bubbleSort(array):\n",
    "    size=len(array)\n",
    "    temp=0\n",
    "    for i in array:\n",
    "        for j in range(0,size-1):\n",
    "            if array[j]>array[j+1]:\n",
    "                temp=array[j]\n",
    "                array[j]=array[j+1]\n",
    "                array[j+1]=temp\n",
    "    return array"
   ]
  },
  {
   "cell_type": "code",
   "execution_count": 143,
   "metadata": {},
   "outputs": [
    {
     "name": "stdout",
     "output_type": "stream",
     "text": [
      "--- 0.17370367050170898 seconds ---\n"
     ]
    }
   ],
   "source": [
    "Start = 1\n",
    "Stop = 1000\n",
    "limit = 1000\n",
    "# List of random integers without Step parameter\n",
    "RandomI_ListOfIntegers = [random.randrange(Start, Stop) for iter in range(limit)]\n",
    "start_time = time.time()\n",
    "bubbleSort(RandomI_ListOfIntegers)\n",
    "print(\"--- %s seconds ---\" % (time.time() - start_time))"
   ]
  },
  {
   "cell_type": "code",
   "execution_count": 142,
   "metadata": {},
   "outputs": [
    {
     "data": {
      "text/plain": [
       "[0, 1, 2, 2, 3, 3, 3, 4, 4, 4, 8, 9, 12, 22, 44, 67]"
      ]
     },
     "execution_count": 142,
     "metadata": {},
     "output_type": "execute_result"
    }
   ],
   "source": [
    "bubbleSort([1,2,3,4,12,3,4,2,3,4,44,67,8,22,9,0])"
   ]
  },
  {
   "cell_type": "code",
   "execution_count": null,
   "metadata": {},
   "outputs": [],
   "source": []
  }
 ],
 "metadata": {
  "kernelspec": {
   "display_name": "Python 3",
   "language": "python",
   "name": "python3"
  },
  "language_info": {
   "codemirror_mode": {
    "name": "ipython",
    "version": 3
   },
   "file_extension": ".py",
   "mimetype": "text/x-python",
   "name": "python",
   "nbconvert_exporter": "python",
   "pygments_lexer": "ipython3",
   "version": "3.7.3"
  }
 },
 "nbformat": 4,
 "nbformat_minor": 2
}
